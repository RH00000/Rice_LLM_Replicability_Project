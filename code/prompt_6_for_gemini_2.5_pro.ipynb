{
  "cells": [
    {
      "cell_type": "markdown",
      "metadata": {
        "id": "view-in-github",
        "colab_type": "text"
      },
      "source": [
        "<a href=\"https://colab.research.google.com/github/RH00000/Rice_LLM_Replicability_Project/blob/main/prompt_6_for_gemini_2.5_pro.ipynb\" target=\"_parent\"><img src=\"https://colab.research.google.com/assets/colab-badge.svg\" alt=\"Open In Colab\"/></a>"
      ]
    },
    {
      "cell_type": "code",
      "source": [
        "!pip install -q google-generativeai pandas openpyxl"
      ],
      "metadata": {
        "id": "KjYbPzYlWF8j"
      },
      "execution_count": 1,
      "outputs": []
    },
    {
      "cell_type": "code",
      "source": [
        "#import\n",
        "from google import genai\n",
        "import os\n",
        "import requests\n",
        "import pandas as pd\n",
        "import re\n",
        "import time\n",
        "from google.colab import files, userdata\n",
        "userdata.get('GEMINI_API_KEY')"
      ],
      "metadata": {
        "collapsed": true,
        "id": "mKwejjTsRjfz"
      },
      "execution_count": null,
      "outputs": []
    },
    {
      "cell_type": "code",
      "source": [
        "#Initialize Gemini Client\n",
        "client = genai.Client(api_key=userdata.get('GEMINI_API_KEY'))"
      ],
      "metadata": {
        "id": "5MnENKEOSCP-"
      },
      "execution_count": 3,
      "outputs": []
    },
    {
      "cell_type": "code",
      "source": [
        "#Upload and Load Excel File\n",
        "uploaded = files.upload()\n",
        "excel_file = list(uploaded.keys())[0]\n",
        "df = pd.read_excel(excel_file, sheet_name=0).dropna(how=\"all\")"
      ],
      "metadata": {
        "colab": {
          "base_uri": "https://localhost:8080/",
          "height": 73
        },
        "id": "k7wNDLV8Vq71",
        "outputId": "e8e25b58-17c0-42b6-c1ac-5e1a7cccab20"
      },
      "execution_count": 4,
      "outputs": [
        {
          "output_type": "display_data",
          "data": {
            "text/plain": [
              "<IPython.core.display.HTML object>"
            ],
            "text/html": [
              "\n",
              "     <input type=\"file\" id=\"files-101fa201-7d13-47e3-866e-09f5f327883a\" name=\"files[]\" multiple disabled\n",
              "        style=\"border:none\" />\n",
              "     <output id=\"result-101fa201-7d13-47e3-866e-09f5f327883a\">\n",
              "      Upload widget is only available when the cell has been executed in the\n",
              "      current browser session. Please rerun this cell to enable.\n",
              "      </output>\n",
              "      <script>// Copyright 2017 Google LLC\n",
              "//\n",
              "// Licensed under the Apache License, Version 2.0 (the \"License\");\n",
              "// you may not use this file except in compliance with the License.\n",
              "// You may obtain a copy of the License at\n",
              "//\n",
              "//      http://www.apache.org/licenses/LICENSE-2.0\n",
              "//\n",
              "// Unless required by applicable law or agreed to in writing, software\n",
              "// distributed under the License is distributed on an \"AS IS\" BASIS,\n",
              "// WITHOUT WARRANTIES OR CONDITIONS OF ANY KIND, either express or implied.\n",
              "// See the License for the specific language governing permissions and\n",
              "// limitations under the License.\n",
              "\n",
              "/**\n",
              " * @fileoverview Helpers for google.colab Python module.\n",
              " */\n",
              "(function(scope) {\n",
              "function span(text, styleAttributes = {}) {\n",
              "  const element = document.createElement('span');\n",
              "  element.textContent = text;\n",
              "  for (const key of Object.keys(styleAttributes)) {\n",
              "    element.style[key] = styleAttributes[key];\n",
              "  }\n",
              "  return element;\n",
              "}\n",
              "\n",
              "// Max number of bytes which will be uploaded at a time.\n",
              "const MAX_PAYLOAD_SIZE = 100 * 1024;\n",
              "\n",
              "function _uploadFiles(inputId, outputId) {\n",
              "  const steps = uploadFilesStep(inputId, outputId);\n",
              "  const outputElement = document.getElementById(outputId);\n",
              "  // Cache steps on the outputElement to make it available for the next call\n",
              "  // to uploadFilesContinue from Python.\n",
              "  outputElement.steps = steps;\n",
              "\n",
              "  return _uploadFilesContinue(outputId);\n",
              "}\n",
              "\n",
              "// This is roughly an async generator (not supported in the browser yet),\n",
              "// where there are multiple asynchronous steps and the Python side is going\n",
              "// to poll for completion of each step.\n",
              "// This uses a Promise to block the python side on completion of each step,\n",
              "// then passes the result of the previous step as the input to the next step.\n",
              "function _uploadFilesContinue(outputId) {\n",
              "  const outputElement = document.getElementById(outputId);\n",
              "  const steps = outputElement.steps;\n",
              "\n",
              "  const next = steps.next(outputElement.lastPromiseValue);\n",
              "  return Promise.resolve(next.value.promise).then((value) => {\n",
              "    // Cache the last promise value to make it available to the next\n",
              "    // step of the generator.\n",
              "    outputElement.lastPromiseValue = value;\n",
              "    return next.value.response;\n",
              "  });\n",
              "}\n",
              "\n",
              "/**\n",
              " * Generator function which is called between each async step of the upload\n",
              " * process.\n",
              " * @param {string} inputId Element ID of the input file picker element.\n",
              " * @param {string} outputId Element ID of the output display.\n",
              " * @return {!Iterable<!Object>} Iterable of next steps.\n",
              " */\n",
              "function* uploadFilesStep(inputId, outputId) {\n",
              "  const inputElement = document.getElementById(inputId);\n",
              "  inputElement.disabled = false;\n",
              "\n",
              "  const outputElement = document.getElementById(outputId);\n",
              "  outputElement.innerHTML = '';\n",
              "\n",
              "  const pickedPromise = new Promise((resolve) => {\n",
              "    inputElement.addEventListener('change', (e) => {\n",
              "      resolve(e.target.files);\n",
              "    });\n",
              "  });\n",
              "\n",
              "  const cancel = document.createElement('button');\n",
              "  inputElement.parentElement.appendChild(cancel);\n",
              "  cancel.textContent = 'Cancel upload';\n",
              "  const cancelPromise = new Promise((resolve) => {\n",
              "    cancel.onclick = () => {\n",
              "      resolve(null);\n",
              "    };\n",
              "  });\n",
              "\n",
              "  // Wait for the user to pick the files.\n",
              "  const files = yield {\n",
              "    promise: Promise.race([pickedPromise, cancelPromise]),\n",
              "    response: {\n",
              "      action: 'starting',\n",
              "    }\n",
              "  };\n",
              "\n",
              "  cancel.remove();\n",
              "\n",
              "  // Disable the input element since further picks are not allowed.\n",
              "  inputElement.disabled = true;\n",
              "\n",
              "  if (!files) {\n",
              "    return {\n",
              "      response: {\n",
              "        action: 'complete',\n",
              "      }\n",
              "    };\n",
              "  }\n",
              "\n",
              "  for (const file of files) {\n",
              "    const li = document.createElement('li');\n",
              "    li.append(span(file.name, {fontWeight: 'bold'}));\n",
              "    li.append(span(\n",
              "        `(${file.type || 'n/a'}) - ${file.size} bytes, ` +\n",
              "        `last modified: ${\n",
              "            file.lastModifiedDate ? file.lastModifiedDate.toLocaleDateString() :\n",
              "                                    'n/a'} - `));\n",
              "    const percent = span('0% done');\n",
              "    li.appendChild(percent);\n",
              "\n",
              "    outputElement.appendChild(li);\n",
              "\n",
              "    const fileDataPromise = new Promise((resolve) => {\n",
              "      const reader = new FileReader();\n",
              "      reader.onload = (e) => {\n",
              "        resolve(e.target.result);\n",
              "      };\n",
              "      reader.readAsArrayBuffer(file);\n",
              "    });\n",
              "    // Wait for the data to be ready.\n",
              "    let fileData = yield {\n",
              "      promise: fileDataPromise,\n",
              "      response: {\n",
              "        action: 'continue',\n",
              "      }\n",
              "    };\n",
              "\n",
              "    // Use a chunked sending to avoid message size limits. See b/62115660.\n",
              "    let position = 0;\n",
              "    do {\n",
              "      const length = Math.min(fileData.byteLength - position, MAX_PAYLOAD_SIZE);\n",
              "      const chunk = new Uint8Array(fileData, position, length);\n",
              "      position += length;\n",
              "\n",
              "      const base64 = btoa(String.fromCharCode.apply(null, chunk));\n",
              "      yield {\n",
              "        response: {\n",
              "          action: 'append',\n",
              "          file: file.name,\n",
              "          data: base64,\n",
              "        },\n",
              "      };\n",
              "\n",
              "      let percentDone = fileData.byteLength === 0 ?\n",
              "          100 :\n",
              "          Math.round((position / fileData.byteLength) * 100);\n",
              "      percent.textContent = `${percentDone}% done`;\n",
              "\n",
              "    } while (position < fileData.byteLength);\n",
              "  }\n",
              "\n",
              "  // All done.\n",
              "  yield {\n",
              "    response: {\n",
              "      action: 'complete',\n",
              "    }\n",
              "  };\n",
              "}\n",
              "\n",
              "scope.google = scope.google || {};\n",
              "scope.google.colab = scope.google.colab || {};\n",
              "scope.google.colab._files = {\n",
              "  _uploadFiles,\n",
              "  _uploadFilesContinue,\n",
              "};\n",
              "})(self);\n",
              "</script> "
            ]
          },
          "metadata": {}
        },
        {
          "output_type": "stream",
          "name": "stdout",
          "text": [
            "Saving temporary evaluation.xlsx to temporary evaluation.xlsx\n"
          ]
        }
      ]
    },
    {
      "cell_type": "code",
      "source": [
        "#Ensure prompt_5 column exists\n",
        "if \"prompt_6\" not in df.columns:\n",
        "    raise KeyError(\"Excel must have a 'prompt_6' column with full prompts.\")\n",
        "else:\n",
        "  print(\"prompt_6 exists\")"
      ],
      "metadata": {
        "colab": {
          "base_uri": "https://localhost:8080/"
        },
        "id": "lgbEeopDYZ9t",
        "outputId": "75233a05-309e-4f2f-8169-2cfea3259480"
      },
      "execution_count": 5,
      "outputs": [
        {
          "output_type": "stream",
          "name": "stdout",
          "text": [
            "prompt_6 exists\n"
          ]
        }
      ]
    },
    {
      "cell_type": "code",
      "source": [
        "#Helper to extract probability from first line\n",
        "def extract_prob(text):\n",
        "    first_line = text.strip().splitlines()[0]\n",
        "    m = re.search(r\"\\b(0(?:\\.\\d+)?|1(?:\\.0+)?)\\b\", first_line)\n",
        "    return float(m.group(0)) if m else None"
      ],
      "metadata": {
        "id": "OVmxmkMpYkYq"
      },
      "execution_count": 6,
      "outputs": []
    },
    {
      "cell_type": "code",
      "source": [
        "#Main Loop with Rate Limiting (build two lists instead of dicts)\n",
        "probs   = []\n",
        "outputs = []\n",
        "\n",
        "#Resume support\n",
        "autosave_file = 'autosave_file' # Define autosave_file\n",
        "start_idx = 0\n",
        "if os.path.exists(autosave_file):\n",
        "    try:\n",
        "        saved = pd.read_csv(autosave_file)\n",
        "        # If you want to resume into the new scheme, you could load probs/outputs from saved\n",
        "        # but for simplicity this example always starts fresh\n",
        "        start_idx = len(saved)\n",
        "        # Load existing results if resuming\n",
        "        if start_idx > 0:\n",
        "            probs = saved[\"replication_probability\"].tolist()\n",
        "            outputs = saved[\"model_output\"].tolist()\n",
        "    except Exception as e:\n",
        "        print(f\"Error loading autosave file: {e}. Starting fresh.\")\n",
        "        start_idx = 0\n",
        "        probs = []\n",
        "        outputs = []\n",
        "\n",
        "if start_idx > 0:\n",
        "    print(f\"Resuming from row {start_idx}\")\n",
        "\n",
        "\n",
        "# Iterate over the DataFrame's index instead of a range\n",
        "for idx in df.index[start_idx:]:\n",
        "    prompt = df.at[idx, \"prompt_6\"]\n",
        "    try:\n",
        "        response = client.models.generate_content(\n",
        "            model=\"gemini-2.5-pro\",\n",
        "            contents=[prompt]\n",
        "        )\n",
        "        text = response.candidates[0].content.parts[0].text.strip()\n",
        "        prob = extract_prob(text)\n",
        "    except Exception as e:\n",
        "        text = f\"Error: {e}\"\n",
        "        prob = None\n",
        "\n",
        "    probs.append(prob)\n",
        "    outputs.append(text)\n",
        "\n",
        "    # Autosave the partial results\n",
        "    # Use the actual index for saving\n",
        "    if (len(probs)) % 10 == 0:\n",
        "        # Get the corresponding part of the original DataFrame\n",
        "        df_partial = df.iloc[:len(probs)].copy()\n",
        "        df_partial[\"replication_probability\"] = probs\n",
        "        df_partial[\"model_output\"]            = outputs\n",
        "        df_partial.to_csv(autosave_file, index=False)\n",
        "        print(f\"Autosaved through row {len(probs)-1}\")\n",
        "\n",
        "    time.sleep(1.0)\n",
        "\n",
        "# Attach to original df & save\n",
        "df[\"replication_probability\"] = probs\n",
        "df[\"model_output\"]            = outputs\n",
        "\n",
        "# Write all original columns + the two new ones:\n",
        "df.to_csv(\"predictions_output_final.csv\", index=False)\n",
        "files.download(\"predictions_output_final.csv\")"
      ],
      "metadata": {
        "colab": {
          "base_uri": "https://localhost:8080/",
          "height": 104
        },
        "id": "AdFnfmqrYood",
        "outputId": "607100b7-2ea0-414b-cd8f-fe1c26a9bebc"
      },
      "execution_count": 7,
      "outputs": [
        {
          "output_type": "stream",
          "name": "stdout",
          "text": [
            "Autosaved through row 9\n",
            "Autosaved through row 19\n",
            "Autosaved through row 29\n",
            "Autosaved through row 39\n",
            "Autosaved through row 49\n"
          ]
        },
        {
          "output_type": "display_data",
          "data": {
            "text/plain": [
              "<IPython.core.display.Javascript object>"
            ],
            "application/javascript": [
              "\n",
              "    async function download(id, filename, size) {\n",
              "      if (!google.colab.kernel.accessAllowed) {\n",
              "        return;\n",
              "      }\n",
              "      const div = document.createElement('div');\n",
              "      const label = document.createElement('label');\n",
              "      label.textContent = `Downloading \"${filename}\": `;\n",
              "      div.appendChild(label);\n",
              "      const progress = document.createElement('progress');\n",
              "      progress.max = size;\n",
              "      div.appendChild(progress);\n",
              "      document.body.appendChild(div);\n",
              "\n",
              "      const buffers = [];\n",
              "      let downloaded = 0;\n",
              "\n",
              "      const channel = await google.colab.kernel.comms.open(id);\n",
              "      // Send a message to notify the kernel that we're ready.\n",
              "      channel.send({})\n",
              "\n",
              "      for await (const message of channel.messages) {\n",
              "        // Send a message to notify the kernel that we're ready.\n",
              "        channel.send({})\n",
              "        if (message.buffers) {\n",
              "          for (const buffer of message.buffers) {\n",
              "            buffers.push(buffer);\n",
              "            downloaded += buffer.byteLength;\n",
              "            progress.value = downloaded;\n",
              "          }\n",
              "        }\n",
              "      }\n",
              "      const blob = new Blob(buffers, {type: 'application/binary'});\n",
              "      const a = document.createElement('a');\n",
              "      a.href = window.URL.createObjectURL(blob);\n",
              "      a.download = filename;\n",
              "      div.appendChild(a);\n",
              "      a.click();\n",
              "      div.remove();\n",
              "    }\n",
              "  "
            ]
          },
          "metadata": {}
        },
        {
          "output_type": "display_data",
          "data": {
            "text/plain": [
              "<IPython.core.display.Javascript object>"
            ],
            "application/javascript": [
              "download(\"download_5c9472ee-f9f9-4350-81bc-61ede885fc02\", \"predictions_output_final.csv\", 654986)"
            ]
          },
          "metadata": {}
        }
      ]
    },
    {
      "cell_type": "code",
      "source": [
        "!pip install -q scikit-learn"
      ],
      "metadata": {
        "id": "fgqln8Gdy62q"
      },
      "execution_count": 8,
      "outputs": []
    },
    {
      "cell_type": "code",
      "source": [
        "from sklearn.metrics import roc_auc_score, roc_curve"
      ],
      "metadata": {
        "id": "YLJTA7H98nd5"
      },
      "execution_count": 9,
      "outputs": []
    },
    {
      "cell_type": "code",
      "source": [
        "df_result = pd.read_csv(\"predictions_output_final.csv\")"
      ],
      "metadata": {
        "id": "wjk-QB698sPv"
      },
      "execution_count": 10,
      "outputs": []
    },
    {
      "cell_type": "code",
      "source": [
        "#Drop rows where \"replication_probability\" is blank\n",
        "df_clean = df_result.dropna(subset=[\"replication_probability\"]).copy()\n",
        "\n",
        "#Convert replication probability to float\n",
        "df_clean[\"replication_probability\"] = df_clean[\"replication_probability\"].astype(float)"
      ],
      "metadata": {
        "id": "IndAsxAE8wTZ"
      },
      "execution_count": 11,
      "outputs": []
    },
    {
      "cell_type": "code",
      "source": [
        "#Convert ground truth to binary labels\n",
        "df_clean[\"replicated\"] = df_clean[\"Result (replicated?)\"].str.strip().str.lower().map({\"yes\": 1, \"no\": 0})"
      ],
      "metadata": {
        "id": "x9MfHVeR8-vA"
      },
      "execution_count": 12,
      "outputs": []
    },
    {
      "cell_type": "code",
      "source": [
        "#Compute AUC\n",
        "auc = roc_auc_score(df_clean[\"replicated\"], df_clean[\"replication_probability\"])\n",
        "print(f\"AUC: {auc:.4f}\")"
      ],
      "metadata": {
        "colab": {
          "base_uri": "https://localhost:8080/"
        },
        "id": "YgSHePgZ9PuW",
        "outputId": "a7ad6391-c292-4e85-bf32-86e7c2ec19e7"
      },
      "execution_count": 15,
      "outputs": [
        {
          "output_type": "stream",
          "name": "stdout",
          "text": [
            "AUC: 0.5903\n"
          ]
        }
      ]
    },
    {
      "cell_type": "code",
      "source": [
        "from matplotlib import pyplot as plt\n",
        "\n",
        "# ROC curve\n",
        "fpr, tpr, _ = roc_curve(df_clean[\"replicated\"], df_clean[\"replication_probability\"])\n",
        "\n",
        "# Plotting\n",
        "plt.figure(figsize=(8, 6))\n",
        "plt.plot(fpr, tpr, label=f\"ROC Curve (AUC = {auc:.3f})\", color=\"darkblue\")\n",
        "plt.plot([0, 1], [0, 1], linestyle=\"--\", color=\"gray\")\n",
        "plt.xlabel(\"False Positive Rate\")\n",
        "plt.ylabel(\"True Positive Rate\")\n",
        "plt.title(\"ROC Curve for Replication Prediction\")\n",
        "plt.legend()\n",
        "plt.grid(True)\n",
        "plt.show()"
      ],
      "metadata": {
        "colab": {
          "base_uri": "https://localhost:8080/",
          "height": 564
        },
        "id": "-a9q7dGo9nHY",
        "outputId": "ee31105a-13e0-4fb5-8cdd-73f2d94892d9"
      },
      "execution_count": 16,
      "outputs": [
        {
          "output_type": "display_data",
          "data": {
            "text/plain": [
              "<Figure size 800x600 with 1 Axes>"
            ],
            "image/png": "[encoded data removed]"
          },
          "metadata": {}
        }
      ]
    },
    {
      "cell_type": "code",
      "source": [
        "print(\"Number of studies used:\", len(df_clean))"
      ],
      "metadata": {
        "colab": {
          "base_uri": "https://localhost:8080/"
        },
        "id": "75jPNF9Z_yuL",
        "outputId": "26aac4ac-20fd-44e5-d1aa-1f91d146e6ae"
      },
      "execution_count": 17,
      "outputs": [
        {
          "output_type": "stream",
          "name": "stdout",
          "text": [
            "Number of studies used: 51\n"
          ]
        }
      ]
    },
    {
      "cell_type": "code",
      "source": [
        "# prompt_6 added method_summarized. auc got cooked.\n",
        "# prompt_6:\n",
        "# =CONCATENATE(\n",
        "#   \"# System\", CHAR(10),\n",
        "#   \"You are a statistical‑methods consultant. Given the abstract, key metrics, study characteristics, and a summary of the study's method, you will predict how likely it is (from 0 to 1) that an independent replication would achieve success. You must output exactly:\", CHAR(10),\n",
        "#   \"1. On the first line: a single decimal number between 0 and 1 (no percent sign).\", CHAR(10),\n",
        "#   \"2. On the second line: a brief explanation (2–3 sentences) reasoning through relevant factors such as sample size, p‑value, effect size, analysis complexity, author citation count, subfield, implied study type, or method characteristics.\", CHAR(10), CHAR(10),\n",
        "\n",
        "#   \"# User\", CHAR(10),\n",
        "#   \"A psychology study reported the following abstract:\", CHAR(10),\n",
        "#   O2, CHAR(10), CHAR(10),\n",
        "\n",
        "#   \"Study method summary:\", CHAR(10),\n",
        "#   R2, CHAR(10), CHAR(10),\n",
        "\n",
        "#   \"Key details:\", CHAR(10),\n",
        "#   \"- Sample size: \", I2, CHAR(10),\n",
        "#   \"- Analysis type (e.g. rm ANOVA, mixed ANOVA, regression, t‑test): \", F2, CHAR(10),\n",
        "#   \"- Test statistic: \", D2, CHAR(10),\n",
        "#   \"- Reported p‑value: \", E2, CHAR(10),\n",
        "#   \"- Effect size (e.g. Cohen’s d, r): \", H2, CHAR(10),\n",
        "#   \"- First author’s citation count: \", J2, CHAR(10),\n",
        "#   \"- Subfield: \", P2, CHAR(10), CHAR(10),\n",
        "\n",
        "#   \"Notes:\", CHAR(10),\n",
        "#   \"• Larger sample sizes and more extreme p‑values correlate with higher replicability.\", CHAR(10),\n",
        "#   \"• More complex statistical methods (e.g., mixed ANOVA) often show lower replication rates.\", CHAR(10),\n",
        "#   \"• First authors’ higher citation counts positively predict replication success.\", CHAR(10),\n",
        "#   \"• Experiments (when clearly implied in the abstract or method) tend to replicate less reliably than non‑experiments.\", CHAR(10),\n",
        "#   \"• Subfields like social psychology, cognitive psychology, and developmental psychology tend to have lower replication rates than personality, organizational, and clinical fields.\", CHAR(10),\n",
        "#   \"• Method summaries may reveal study complexity, number of manipulations, or risk of subtle bias, all of which can affect replication probability.\", CHAR(10), CHAR(10),\n",
        "\n",
        "#   \"What is the probability (0–1) that an independent follow‑up would replicate successfully?\"\n",
        "# )"
      ],
      "metadata": {
        "id": "onx3me3iMqRv"
      },
      "execution_count": null,
      "outputs": []
    }
  ],
  "metadata": {
    "colab": {
      "provenance": [],
      "authorship_tag": "ABX9TyMluMaBdALisQVGqsll9FYi",
      "include_colab_link": true
    },
    "kernelspec": {
      "display_name": "Python 3",
      "name": "python3"
    },
    "language_info": {
      "name": "python"
    }
  },
  "nbformat": 4,
  "nbformat_minor": 0
}
