{
  "nbformat": 4,
  "nbformat_minor": 0,
  "metadata": {
    "colab": {
      "provenance": [],
      "authorship_tag": "ABX9TyPj+16/KkGn+Xc/RtHXFAKf",
      "include_colab_link": true
    },
    "kernelspec": {
      "name": "python3",
      "display_name": "Python 3"
    },
    "language_info": {
      "name": "python"
    }
  },
  "cells": [
    {
      "cell_type": "markdown",
      "metadata": {
        "id": "view-in-github",
        "colab_type": "text"
      },
      "source": [
        "<a href=\"https://colab.research.google.com/github/RH00000/Rice_LLM_Replicability_Project/blob/main/prompt_5_ensembling_95_rpp_studies.ipynb\" target=\"_parent\"><img src=\"https://colab.research.google.com/assets/colab-badge.svg\" alt=\"Open In Colab\"/></a>"
      ]
    },
    {
      "cell_type": "code",
      "execution_count": 1,
      "metadata": {
        "id": "NJVrugcUJtsk"
      },
      "outputs": [],
      "source": [
        "!pip install -q google-generativeai pandas openpyxl"
      ]
    },
    {
      "cell_type": "code",
      "source": [
        "#import\n",
        "from google import genai\n",
        "import os\n",
        "import requests\n",
        "import pandas as pd\n",
        "import re\n",
        "import time\n",
        "from google.colab import files, userdata\n",
        "userdata.get('GEMINI_API_KEY')"
      ],
      "metadata": {
        "id": "8QedkpdpMciD"
      },
      "execution_count": null,
      "outputs": []
    },
    {
      "cell_type": "code",
      "source": [
        "#Initialize Gemini Client\n",
        "client = genai.Client(api_key=userdata.get('GEMINI_API_KEY'))"
      ],
      "metadata": {
        "id": "aL2H-jRTMcuy"
      },
      "execution_count": 3,
      "outputs": []
    },
    {
      "cell_type": "code",
      "source": [
        "#Upload and Load Excel File\n",
        "uploaded = files.upload()\n",
        "excel_file = list(uploaded.keys())[0]\n",
        "df = pd.read_excel(excel_file, sheet_name=0).dropna(how=\"all\")"
      ],
      "metadata": {
        "colab": {
          "base_uri": "https://localhost:8080/",
          "height": 73
        },
        "id": "6UBbwwwoNLZ-",
        "outputId": "012162e0-08b6-4bc5-d21e-a291faea5917"
      },
      "execution_count": 4,
      "outputs": [
        {
          "output_type": "display_data",
          "data": {
            "text/plain": [
              "<IPython.core.display.HTML object>"
            ],
            "text/html": [
              "\n",
              "     <input type=\"file\" id=\"files-746e46ca-465e-4680-9ad6-d699ff649e29\" name=\"files[]\" multiple disabled\n",
              "        style=\"border:none\" />\n",
              "     <output id=\"result-746e46ca-465e-4680-9ad6-d699ff649e29\">\n",
              "      Upload widget is only available when the cell has been executed in the\n",
              "      current browser session. Please rerun this cell to enable.\n",
              "      </output>\n",
              "      <script>// Copyright 2017 Google LLC\n",
              "//\n",
              "// Licensed under the Apache License, Version 2.0 (the \"License\");\n",
              "// you may not use this file except in compliance with the License.\n",
              "// You may obtain a copy of the License at\n",
              "//\n",
              "//      http://www.apache.org/licenses/LICENSE-2.0\n",
              "//\n",
              "// Unless required by applicable law or agreed to in writing, software\n",
              "// distributed under the License is distributed on an \"AS IS\" BASIS,\n",
              "// WITHOUT WARRANTIES OR CONDITIONS OF ANY KIND, either express or implied.\n",
              "// See the License for the specific language governing permissions and\n",
              "// limitations under the License.\n",
              "\n",
              "/**\n",
              " * @fileoverview Helpers for google.colab Python module.\n",
              " */\n",
              "(function(scope) {\n",
              "function span(text, styleAttributes = {}) {\n",
              "  const element = document.createElement('span');\n",
              "  element.textContent = text;\n",
              "  for (const key of Object.keys(styleAttributes)) {\n",
              "    element.style[key] = styleAttributes[key];\n",
              "  }\n",
              "  return element;\n",
              "}\n",
              "\n",
              "// Max number of bytes which will be uploaded at a time.\n",
              "const MAX_PAYLOAD_SIZE = 100 * 1024;\n",
              "\n",
              "function _uploadFiles(inputId, outputId) {\n",
              "  const steps = uploadFilesStep(inputId, outputId);\n",
              "  const outputElement = document.getElementById(outputId);\n",
              "  // Cache steps on the outputElement to make it available for the next call\n",
              "  // to uploadFilesContinue from Python.\n",
              "  outputElement.steps = steps;\n",
              "\n",
              "  return _uploadFilesContinue(outputId);\n",
              "}\n",
              "\n",
              "// This is roughly an async generator (not supported in the browser yet),\n",
              "// where there are multiple asynchronous steps and the Python side is going\n",
              "// to poll for completion of each step.\n",
              "// This uses a Promise to block the python side on completion of each step,\n",
              "// then passes the result of the previous step as the input to the next step.\n",
              "function _uploadFilesContinue(outputId) {\n",
              "  const outputElement = document.getElementById(outputId);\n",
              "  const steps = outputElement.steps;\n",
              "\n",
              "  const next = steps.next(outputElement.lastPromiseValue);\n",
              "  return Promise.resolve(next.value.promise).then((value) => {\n",
              "    // Cache the last promise value to make it available to the next\n",
              "    // step of the generator.\n",
              "    outputElement.lastPromiseValue = value;\n",
              "    return next.value.response;\n",
              "  });\n",
              "}\n",
              "\n",
              "/**\n",
              " * Generator function which is called between each async step of the upload\n",
              " * process.\n",
              " * @param {string} inputId Element ID of the input file picker element.\n",
              " * @param {string} outputId Element ID of the output display.\n",
              " * @return {!Iterable<!Object>} Iterable of next steps.\n",
              " */\n",
              "function* uploadFilesStep(inputId, outputId) {\n",
              "  const inputElement = document.getElementById(inputId);\n",
              "  inputElement.disabled = false;\n",
              "\n",
              "  const outputElement = document.getElementById(outputId);\n",
              "  outputElement.innerHTML = '';\n",
              "\n",
              "  const pickedPromise = new Promise((resolve) => {\n",
              "    inputElement.addEventListener('change', (e) => {\n",
              "      resolve(e.target.files);\n",
              "    });\n",
              "  });\n",
              "\n",
              "  const cancel = document.createElement('button');\n",
              "  inputElement.parentElement.appendChild(cancel);\n",
              "  cancel.textContent = 'Cancel upload';\n",
              "  const cancelPromise = new Promise((resolve) => {\n",
              "    cancel.onclick = () => {\n",
              "      resolve(null);\n",
              "    };\n",
              "  });\n",
              "\n",
              "  // Wait for the user to pick the files.\n",
              "  const files = yield {\n",
              "    promise: Promise.race([pickedPromise, cancelPromise]),\n",
              "    response: {\n",
              "      action: 'starting',\n",
              "    }\n",
              "  };\n",
              "\n",
              "  cancel.remove();\n",
              "\n",
              "  // Disable the input element since further picks are not allowed.\n",
              "  inputElement.disabled = true;\n",
              "\n",
              "  if (!files) {\n",
              "    return {\n",
              "      response: {\n",
              "        action: 'complete',\n",
              "      }\n",
              "    };\n",
              "  }\n",
              "\n",
              "  for (const file of files) {\n",
              "    const li = document.createElement('li');\n",
              "    li.append(span(file.name, {fontWeight: 'bold'}));\n",
              "    li.append(span(\n",
              "        `(${file.type || 'n/a'}) - ${file.size} bytes, ` +\n",
              "        `last modified: ${\n",
              "            file.lastModifiedDate ? file.lastModifiedDate.toLocaleDateString() :\n",
              "                                    'n/a'} - `));\n",
              "    const percent = span('0% done');\n",
              "    li.appendChild(percent);\n",
              "\n",
              "    outputElement.appendChild(li);\n",
              "\n",
              "    const fileDataPromise = new Promise((resolve) => {\n",
              "      const reader = new FileReader();\n",
              "      reader.onload = (e) => {\n",
              "        resolve(e.target.result);\n",
              "      };\n",
              "      reader.readAsArrayBuffer(file);\n",
              "    });\n",
              "    // Wait for the data to be ready.\n",
              "    let fileData = yield {\n",
              "      promise: fileDataPromise,\n",
              "      response: {\n",
              "        action: 'continue',\n",
              "      }\n",
              "    };\n",
              "\n",
              "    // Use a chunked sending to avoid message size limits. See b/62115660.\n",
              "    let position = 0;\n",
              "    do {\n",
              "      const length = Math.min(fileData.byteLength - position, MAX_PAYLOAD_SIZE);\n",
              "      const chunk = new Uint8Array(fileData, position, length);\n",
              "      position += length;\n",
              "\n",
              "      const base64 = btoa(String.fromCharCode.apply(null, chunk));\n",
              "      yield {\n",
              "        response: {\n",
              "          action: 'append',\n",
              "          file: file.name,\n",
              "          data: base64,\n",
              "        },\n",
              "      };\n",
              "\n",
              "      let percentDone = fileData.byteLength === 0 ?\n",
              "          100 :\n",
              "          Math.round((position / fileData.byteLength) * 100);\n",
              "      percent.textContent = `${percentDone}% done`;\n",
              "\n",
              "    } while (position < fileData.byteLength);\n",
              "  }\n",
              "\n",
              "  // All done.\n",
              "  yield {\n",
              "    response: {\n",
              "      action: 'complete',\n",
              "    }\n",
              "  };\n",
              "}\n",
              "\n",
              "scope.google = scope.google || {};\n",
              "scope.google.colab = scope.google.colab || {};\n",
              "scope.google.colab._files = {\n",
              "  _uploadFiles,\n",
              "  _uploadFilesContinue,\n",
              "};\n",
              "})(self);\n",
              "</script> "
            ]
          },
          "metadata": {}
        },
        {
          "output_type": "stream",
          "name": "stdout",
          "text": [
            "Saving data_for_prompt_5_ensembling.xlsx to data_for_prompt_5_ensembling.xlsx\n"
          ]
        }
      ]
    },
    {
      "cell_type": "code",
      "source": [
        "# List of required ensemble‑prompt columns\n",
        "prompt_cols = [\n",
        "    \"sample_size_prompt\",\n",
        "    \"p_value_prompt\",\n",
        "    \"method_complexity_prompt\",\n",
        "    \"author_citation_prompt\",\n",
        "    \"subfield_prompt\"\n",
        "]\n",
        "\n",
        "# Ensure they all exist\n",
        "missing = [col for col in prompt_cols if col not in df.columns]\n",
        "if missing:\n",
        "    raise KeyError(f\"Excel is missing the following prompt columns: {', '.join(missing)}\")\n",
        "else:\n",
        "    print(\"All ensemble prompt columns exist:\", \", \".join(prompt_cols))\n"
      ],
      "metadata": {
        "colab": {
          "base_uri": "https://localhost:8080/"
        },
        "id": "2wGvllXFNFvD",
        "outputId": "59cab073-ab36-4cf1-e72d-7d511d7b0e39"
      },
      "execution_count": 5,
      "outputs": [
        {
          "output_type": "stream",
          "name": "stdout",
          "text": [
            "All ensemble prompt columns exist: sample_size_prompt, p_value_prompt, method_complexity_prompt, author_citation_prompt, subfield_prompt\n"
          ]
        }
      ]
    },
    {
      "cell_type": "code",
      "source": [
        "#Helper to extract probability from first line\n",
        "def extract_prob(text):\n",
        "    first_line = text.strip().splitlines()[0]\n",
        "    m = re.search(r\"\\b(0(?:\\.\\d+)?|1(?:\\.0+)?)\\b\", first_line)\n",
        "    return float(m.group(0)) if m else None"
      ],
      "metadata": {
        "id": "8YWgA94aNF7R"
      },
      "execution_count": 6,
      "outputs": []
    },
    {
      "cell_type": "code",
      "source": [
        "# Prepare storage for each prompt's probs + avg + outputs\n",
        "per_prompt_probs = {col.replace(\"_prompt\", \"_prob\"): [] for col in prompt_cols}\n",
        "avg_probs = []\n",
        "outputs = []\n",
        "\n",
        "# Resume support (unchanged)\n",
        "autosave_file = 'autosave_file'\n",
        "start_idx = 0\n",
        "if os.path.exists(autosave_file):\n",
        "    try:\n",
        "        saved = pd.read_csv(autosave_file)\n",
        "        start_idx = len(saved)\n",
        "        if start_idx > 0:\n",
        "            avg_probs = saved[\"replication_probability\"].tolist()\n",
        "            outputs   = saved[\"model_output\"].tolist()\n",
        "            for prob_col in per_prompt_probs:\n",
        "                per_prompt_probs[prob_col] = saved[prob_col].tolist()\n",
        "    except Exception as e:\n",
        "        print(f\"Error loading autosave file: {e}. Starting fresh.\")\n",
        "        start_idx = 0\n",
        "        avg_probs, outputs = [], []\n",
        "        for prob_col in per_prompt_probs:\n",
        "            per_prompt_probs[prob_col] = []\n",
        "\n",
        "if start_idx > 0:\n",
        "    print(f\"Resuming from row {start_idx}\")\n",
        "\n",
        "# Main loop\n",
        "for idx in df.index[start_idx:]:\n",
        "    this_probs   = []\n",
        "    this_outputs = []\n",
        "\n",
        "    # for each of the 5 prompts\n",
        "    for col in prompt_cols:\n",
        "        prompt = df.at[idx, col]\n",
        "\n",
        "        max_retries = 10\n",
        "        wait_time = 7  # seconds\n",
        "\n",
        "        for attempt in range(max_retries):\n",
        "            try:\n",
        "                response = client.models.generate_content(\n",
        "                    model=\"gemini-2.5-pro\",\n",
        "                    contents=[prompt]\n",
        "                )\n",
        "                text = response.candidates[0].content.parts[0].text.strip()\n",
        "                prob = extract_prob(text) or 0.0\n",
        "                break  # success, exit retry loop\n",
        "            except Exception as e:\n",
        "                error_message = str(e)\n",
        "                if \"UNAVAILABLE\" in error_message or \"503\" in error_message:\n",
        "                    print(f\"[Retry {attempt + 1}/{max_retries}] Gemini overloaded. Waiting {wait_time} seconds...\")\n",
        "                    time.sleep(wait_time)\n",
        "                    wait_time = min(wait_time * 1.5, 60)  # exponential backoff up to 1 min\n",
        "                else:\n",
        "                    print(f\"Non-retryable error on row {idx}: {e}\")\n",
        "                    text = f\"Error: {e}\"\n",
        "                    prob = 0.0\n",
        "                    break\n",
        "        else:\n",
        "            print(f\"Max retries reached for row {idx}.\")\n",
        "            text = f\"Error: Max retries for UNAVAILABLE\"\n",
        "            prob = 0.0\n",
        "\n",
        "        this_probs.append(prob) # Append the probability to the list\n",
        "        this_outputs.append(text)\n",
        "\n",
        "        # append to the per‑prompt list\n",
        "        key = col.replace(\"_prompt\", \"_prob\")\n",
        "        per_prompt_probs[key].append(prob)\n",
        "        time.sleep(2.0)\n",
        "\n",
        "    # average and append\n",
        "    avg = sum(this_probs) / len(this_probs)\n",
        "    avg_probs.append(avg)\n",
        "    outputs.append(\"\\n---\\n\".join(this_outputs))\n",
        "\n",
        "    # autosave every 10\n",
        "    if len(avg_probs) % 10 == 0:\n",
        "        df_partial = df.iloc[:len(avg_probs)].copy()\n",
        "        # assign all prob columns\n",
        "        for key, lst in per_prompt_probs.items():\n",
        "            df_partial[key] = lst\n",
        "        df_partial[\"replication_probability\"] = avg_probs\n",
        "        df_partial[\"model_output\"]            = outputs\n",
        "        df_partial.to_csv(autosave_file, index=False)\n",
        "        print(f\"Autosaved through row {len(avg_probs)-1}\")\n",
        "\n",
        "# Write back to df\n",
        "for key, lst in per_prompt_probs.items():\n",
        "    df[key] = lst\n",
        "df[\"replication_probability\"] = avg_probs\n",
        "df[\"model_output\"]            = outputs\n",
        "\n",
        "# Final save\n",
        "df.to_csv(\"predictions_output_final.csv\", index=False)\n",
        "files.download(\"predictions_output_final.csv\")"
      ],
      "metadata": {
        "colab": {
          "base_uri": "https://localhost:8080/",
          "height": 1000
        },
        "id": "Xweo09kaNXGj",
        "outputId": "2ab25e76-ed8f-4c15-e8ce-7a434d499146"
      },
      "execution_count": 8,
      "outputs": [
        {
          "output_type": "stream",
          "name": "stdout",
          "text": [
            "[Retry 1/10] Gemini overloaded. Waiting 7 seconds...\n",
            "[Retry 1/10] Gemini overloaded. Waiting 7 seconds...\n",
            "[Retry 2/10] Gemini overloaded. Waiting 10.5 seconds...\n",
            "[Retry 1/10] Gemini overloaded. Waiting 7 seconds...\n",
            "[Retry 1/10] Gemini overloaded. Waiting 7 seconds...\n",
            "[Retry 2/10] Gemini overloaded. Waiting 10.5 seconds...\n",
            "[Retry 3/10] Gemini overloaded. Waiting 15.75 seconds...\n",
            "[Retry 4/10] Gemini overloaded. Waiting 23.625 seconds...\n",
            "[Retry 5/10] Gemini overloaded. Waiting 35.4375 seconds...\n",
            "[Retry 6/10] Gemini overloaded. Waiting 53.15625 seconds...\n",
            "[Retry 7/10] Gemini overloaded. Waiting 60 seconds...\n",
            "[Retry 1/10] Gemini overloaded. Waiting 7 seconds...\n",
            "[Retry 1/10] Gemini overloaded. Waiting 7 seconds...\n",
            "[Retry 1/10] Gemini overloaded. Waiting 7 seconds...\n",
            "[Retry 1/10] Gemini overloaded. Waiting 7 seconds...\n",
            "[Retry 2/10] Gemini overloaded. Waiting 10.5 seconds...\n",
            "[Retry 1/10] Gemini overloaded. Waiting 7 seconds...\n",
            "[Retry 1/10] Gemini overloaded. Waiting 7 seconds...\n",
            "[Retry 1/10] Gemini overloaded. Waiting 7 seconds...\n",
            "[Retry 1/10] Gemini overloaded. Waiting 7 seconds...\n",
            "[Retry 1/10] Gemini overloaded. Waiting 7 seconds...\n",
            "[Retry 2/10] Gemini overloaded. Waiting 10.5 seconds...\n",
            "[Retry 3/10] Gemini overloaded. Waiting 15.75 seconds...\n",
            "[Retry 1/10] Gemini overloaded. Waiting 7 seconds...\n",
            "[Retry 1/10] Gemini overloaded. Waiting 7 seconds...\n",
            "[Retry 1/10] Gemini overloaded. Waiting 7 seconds...\n",
            "[Retry 2/10] Gemini overloaded. Waiting 10.5 seconds...\n",
            "[Retry 3/10] Gemini overloaded. Waiting 15.75 seconds...\n",
            "Autosaved through row 9\n",
            "[Retry 1/10] Gemini overloaded. Waiting 7 seconds...\n",
            "[Retry 2/10] Gemini overloaded. Waiting 10.5 seconds...\n",
            "[Retry 3/10] Gemini overloaded. Waiting 15.75 seconds...\n",
            "[Retry 4/10] Gemini overloaded. Waiting 23.625 seconds...\n",
            "[Retry 1/10] Gemini overloaded. Waiting 7 seconds...\n",
            "[Retry 2/10] Gemini overloaded. Waiting 10.5 seconds...\n",
            "[Retry 1/10] Gemini overloaded. Waiting 7 seconds...\n",
            "[Retry 1/10] Gemini overloaded. Waiting 7 seconds...\n",
            "[Retry 1/10] Gemini overloaded. Waiting 7 seconds...\n",
            "[Retry 1/10] Gemini overloaded. Waiting 7 seconds...\n",
            "[Retry 1/10] Gemini overloaded. Waiting 7 seconds...\n",
            "[Retry 1/10] Gemini overloaded. Waiting 7 seconds...\n",
            "Autosaved through row 19\n",
            "[Retry 1/10] Gemini overloaded. Waiting 7 seconds...\n",
            "[Retry 1/10] Gemini overloaded. Waiting 7 seconds...\n",
            "Autosaved through row 29\n",
            "[Retry 1/10] Gemini overloaded. Waiting 7 seconds...\n",
            "[Retry 1/10] Gemini overloaded. Waiting 7 seconds...\n",
            "[Retry 2/10] Gemini overloaded. Waiting 10.5 seconds...\n",
            "[Retry 1/10] Gemini overloaded. Waiting 7 seconds...\n",
            "[Retry 1/10] Gemini overloaded. Waiting 7 seconds...\n",
            "[Retry 1/10] Gemini overloaded. Waiting 7 seconds...\n",
            "[Retry 2/10] Gemini overloaded. Waiting 10.5 seconds...\n",
            "[Retry 1/10] Gemini overloaded. Waiting 7 seconds...\n",
            "Autosaved through row 39\n",
            "[Retry 1/10] Gemini overloaded. Waiting 7 seconds...\n",
            "[Retry 1/10] Gemini overloaded. Waiting 7 seconds...\n",
            "[Retry 1/10] Gemini overloaded. Waiting 7 seconds...\n",
            "[Retry 1/10] Gemini overloaded. Waiting 7 seconds...\n",
            "[Retry 1/10] Gemini overloaded. Waiting 7 seconds...\n",
            "[Retry 1/10] Gemini overloaded. Waiting 7 seconds...\n",
            "Autosaved through row 49\n",
            "[Retry 1/10] Gemini overloaded. Waiting 7 seconds...\n",
            "[Retry 1/10] Gemini overloaded. Waiting 7 seconds...\n",
            "[Retry 1/10] Gemini overloaded. Waiting 7 seconds...\n",
            "[Retry 2/10] Gemini overloaded. Waiting 10.5 seconds...\n",
            "[Retry 1/10] Gemini overloaded. Waiting 7 seconds...\n",
            "[Retry 2/10] Gemini overloaded. Waiting 10.5 seconds...\n",
            "[Retry 3/10] Gemini overloaded. Waiting 15.75 seconds...\n",
            "Non-retryable error on row 51: 500 INTERNAL. {'error': {'code': 500, 'message': 'An internal error has occurred. Please retry or report in https://developers.generativeai.google/guide/troubleshooting', 'status': 'INTERNAL'}}\n",
            "[Retry 1/10] Gemini overloaded. Waiting 7 seconds...\n",
            "[Retry 1/10] Gemini overloaded. Waiting 7 seconds...\n",
            "[Retry 1/10] Gemini overloaded. Waiting 7 seconds...\n",
            "Non-retryable error on row 55: 500 INTERNAL. {'error': {'code': 500, 'message': 'An internal error has occurred. Please retry or report in https://developers.generativeai.google/guide/troubleshooting', 'status': 'INTERNAL'}}\n",
            "Non-retryable error on row 56: 500 INTERNAL. {'error': {'code': 500, 'message': 'An internal error has occurred. Please retry or report in https://developers.generativeai.google/guide/troubleshooting', 'status': 'INTERNAL'}}\n",
            "Non-retryable error on row 57: 500 INTERNAL. {'error': {'code': 500, 'message': 'An internal error has occurred. Please retry or report in https://developers.generativeai.google/guide/troubleshooting', 'status': 'INTERNAL'}}\n",
            "Non-retryable error on row 58: 500 INTERNAL. {'error': {'code': 500, 'message': 'An internal error has occurred. Please retry or report in https://developers.generativeai.google/guide/troubleshooting', 'status': 'INTERNAL'}}\n",
            "Autosaved through row 59\n",
            "Autosaved through row 69\n",
            "[Retry 1/10] Gemini overloaded. Waiting 7 seconds...\n",
            "Autosaved through row 79\n",
            "Autosaved through row 89\n",
            "Autosaved through row 99\n"
          ]
        },
        {
          "output_type": "display_data",
          "data": {
            "text/plain": [
              "<IPython.core.display.Javascript object>"
            ],
            "application/javascript": [
              "\n",
              "    async function download(id, filename, size) {\n",
              "      if (!google.colab.kernel.accessAllowed) {\n",
              "        return;\n",
              "      }\n",
              "      const div = document.createElement('div');\n",
              "      const label = document.createElement('label');\n",
              "      label.textContent = `Downloading \"${filename}\": `;\n",
              "      div.appendChild(label);\n",
              "      const progress = document.createElement('progress');\n",
              "      progress.max = size;\n",
              "      div.appendChild(progress);\n",
              "      document.body.appendChild(div);\n",
              "\n",
              "      const buffers = [];\n",
              "      let downloaded = 0;\n",
              "\n",
              "      const channel = await google.colab.kernel.comms.open(id);\n",
              "      // Send a message to notify the kernel that we're ready.\n",
              "      channel.send({})\n",
              "\n",
              "      for await (const message of channel.messages) {\n",
              "        // Send a message to notify the kernel that we're ready.\n",
              "        channel.send({})\n",
              "        if (message.buffers) {\n",
              "          for (const buffer of message.buffers) {\n",
              "            buffers.push(buffer);\n",
              "            downloaded += buffer.byteLength;\n",
              "            progress.value = downloaded;\n",
              "          }\n",
              "        }\n",
              "      }\n",
              "      const blob = new Blob(buffers, {type: 'application/binary'});\n",
              "      const a = document.createElement('a');\n",
              "      a.href = window.URL.createObjectURL(blob);\n",
              "      a.download = filename;\n",
              "      div.appendChild(a);\n",
              "      a.click();\n",
              "      div.remove();\n",
              "    }\n",
              "  "
            ]
          },
          "metadata": {}
        },
        {
          "output_type": "display_data",
          "data": {
            "text/plain": [
              "<IPython.core.display.Javascript object>"
            ],
            "application/javascript": [
              "download(\"download_43a4bb1d-fade-43e9-aff8-d02a24fdd524\", \"predictions_output_final.csv\", 1445366)"
            ]
          },
          "metadata": {}
        }
      ]
    },
    {
      "cell_type": "code",
      "source": [
        "# another 4 hours"
      ],
      "metadata": {
        "id": "uTfMJvBlcKGS"
      },
      "execution_count": null,
      "outputs": []
    },
    {
      "cell_type": "code",
      "source": [
        "!pip install -q scikit-learn"
      ],
      "metadata": {
        "id": "lWri5xDKMK6u"
      },
      "execution_count": 9,
      "outputs": []
    },
    {
      "cell_type": "code",
      "source": [
        "from sklearn.metrics import roc_auc_score, roc_curve"
      ],
      "metadata": {
        "id": "sDQ0EEVBMMeY"
      },
      "execution_count": 10,
      "outputs": []
    },
    {
      "cell_type": "code",
      "source": [
        "df_result = pd.read_csv(\"predictions_output_final.csv\")"
      ],
      "metadata": {
        "id": "52qhx3DyMOHR"
      },
      "execution_count": 11,
      "outputs": []
    },
    {
      "cell_type": "code",
      "source": [
        "# Drop rows with any zero in the individual prompt probabilities\n",
        "prob_cols = [\n",
        "    \"sample_size_prob\",\n",
        "    \"p_value_prob\",\n",
        "    \"method_complexity_prob\",\n",
        "    \"author_citation_prob\",\n",
        "    \"subfield_prob\"\n",
        "]\n",
        "\n",
        "# Remove rows with 0 in any of the five prompt probabilities\n",
        "df_filtered = df_result.copy()\n",
        "for col in prob_cols:\n",
        "    df_filtered = df_filtered[df_filtered[col] != 0]\n",
        "\n",
        "# Drop rows where \"replication_probability\" is blank\n",
        "df_filtered = df_filtered.dropna(subset=[\"replication_probability\"]).copy()\n",
        "\n",
        "# Convert replication_probability to float\n",
        "df_filtered[\"replication_probability\"] = df_filtered[\"replication_probability\"].astype(float)\n",
        "\n",
        "# Convert ground truth to binary labels\n",
        "df_filtered[\"replicated\"] = df_filtered[\"Result (replicated?)\"].str.strip().str.lower().map({\"yes\": 1, \"no\": 0})\n"
      ],
      "metadata": {
        "id": "ZcLlt4MIMOWT"
      },
      "execution_count": 12,
      "outputs": []
    },
    {
      "cell_type": "code",
      "source": [
        "# Compute AUC\n",
        "auc = roc_auc_score(df_filtered[\"replicated\"], df_filtered[\"replication_probability\"])\n",
        "print(f\"AUC: {auc:.4f}\")"
      ],
      "metadata": {
        "colab": {
          "base_uri": "https://localhost:8080/"
        },
        "id": "tOmHmbsZMbqd",
        "outputId": "47576634-6bea-4c36-ca33-d6f3b2034bd9"
      },
      "execution_count": 13,
      "outputs": [
        {
          "output_type": "stream",
          "name": "stdout",
          "text": [
            "AUC: 0.7325\n"
          ]
        }
      ]
    },
    {
      "cell_type": "code",
      "source": [
        "from matplotlib import pyplot as plt\n",
        "\n",
        "# ROC curve\n",
        "fpr, tpr, _ = roc_curve(df_filtered[\"replicated\"], df_filtered[\"replication_probability\"])\n",
        "\n",
        "# Plotting\n",
        "plt.figure(figsize=(8, 6))\n",
        "plt.plot(fpr, tpr, label=f\"ROC Curve (AUC = {auc:.4f})\", color=\"darkblue\")\n",
        "plt.plot([0, 1], [0, 1], linestyle=\"--\", color=\"gray\")\n",
        "plt.xlabel(\"False Positive Rate\")\n",
        "plt.ylabel(\"True Positive Rate\")\n",
        "plt.title(\"ROC Curve after Prompt Ensembling (95 Studies)\")\n",
        "plt.legend()\n",
        "plt.grid(True)\n",
        "plt.show()"
      ],
      "metadata": {
        "colab": {
          "base_uri": "https://localhost:8080/",
          "height": 564
        },
        "id": "RFc_k4wGMeQ7",
        "outputId": "aaaa7ab7-844e-44b2-b33c-65daa1ef7f7a"
      },
      "execution_count": 16,
      "outputs": [
        {
          "output_type": "display_data",
          "data": {
            "text/plain": [
              "<Figure size 800x600 with 1 Axes>"
            ],
            "image/png": "[encoded data removed]"
          },
          "metadata": {}
        }
      ]
    },
    {
      "cell_type": "code",
      "source": [
        "print(\"Number of studies used:\", len(df_filtered))"
      ],
      "metadata": {
        "colab": {
          "base_uri": "https://localhost:8080/"
        },
        "id": "fnPhrxz2M2w_",
        "outputId": "6b6ff979-b542-4c9b-c9cc-a19160f133b3"
      },
      "execution_count": 15,
      "outputs": [
        {
          "output_type": "stream",
          "name": "stdout",
          "text": [
            "Number of studies used: 95\n"
          ]
        }
      ]
    }
  ]
}